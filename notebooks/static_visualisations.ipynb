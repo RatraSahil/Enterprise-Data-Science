{
 "cells": [
  {
   "cell_type": "markdown",
   "metadata": {},
   "source": [
    "Through this notebook, we aim to complete deliverables 1 and 2 for the course Enterprise Data Science. <br>\n",
    "- Delivery 1 - Figure 1The relative cases overtime of Covid infectors (absolut Covid cases/population size)\n",
    "- Delivery 2 - Figure 2 The vaccination rate (percentage of the population) over time\n",
    "\n",
    "Below you will find the code for these deliverables.<br>"
   ]
  },
  {
   "cell_type": "markdown",
   "metadata": {},
   "source": [
    "##### Import necessary libraries."
   ]
  },
  {
   "cell_type": "code",
   "execution_count": 1,
   "metadata": {},
   "outputs": [],
   "source": [
    "import pandas as pd\n",
    "\n",
    "%matplotlib inline"
   ]
  },
  {
   "cell_type": "markdown",
   "metadata": {},
   "source": [
    "### Load the dataset for visualisation"
   ]
  }
 ],
 "metadata": {
  "interpreter": {
   "hash": "335708c54b211f0f3c472260ff8ceee4f12dea79f7606a8670fd70e50f7a31b6"
  },
  "kernelspec": {
   "display_name": "Python 3.8.2 64-bit",
   "language": "python",
   "name": "python3"
  },
  "language_info": {
   "codemirror_mode": {
    "name": "ipython",
    "version": 3
   },
   "file_extension": ".py",
   "mimetype": "text/x-python",
   "name": "python",
   "nbconvert_exporter": "python",
   "pygments_lexer": "ipython3",
   "version": "3.8.2"
  },
  "orig_nbformat": 4
 },
 "nbformat": 4,
 "nbformat_minor": 2
}
